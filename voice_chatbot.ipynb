{
  "cells": [
    {
      "cell_type": "code",
      "execution_count": null,
      "metadata": {
        "id": "sHNZLFyJtZ9t"
      },
      "outputs": [],
      "source": [
        "# %pip install SpeechRecognition\n",
        "# %pip install gtts\n",
        "# %pip install PyAudio"
      ]
    },
    {
      "cell_type": "code",
      "execution_count": null,
      "metadata": {
        "id": "QqWEH1y9lVoO"
      },
      "outputs": [],
      "source": [
        "from openai import OpenAI\n",
        "from gtts import gTTS\n",
        "from io import BytesIO\n",
        "import pygame, os\n",
        "import speech_recognition as sr\n",
        "\n",
        "# from google.colab import userdata\n",
        "# GPT_API_KEY = userdata.get('GPT_API_KEY')\n",
        "# client = OpenAI(api_key=GPT_API_KEY)\n",
        "\n",
        "from dotenv import load_dotenv\n",
        "load_dotenv()\n",
        "OPEN_API_KEY = os.getenv('OPEN_API_KEY')\n",
        "client = OpenAI()\n",
        "\n",
        "mp3_fp = BytesIO()\n",
        "recognizer = sr.Recognizer()"
      ]
    },
    {
      "cell_type": "code",
      "execution_count": null,
      "metadata": {},
      "outputs": [],
      "source": [
        "# 음성 출력\n",
        "def speak(text: str, lang: str = \"ko\"):\n",
        "    if not pygame.mixer.get_init():\n",
        "        pygame.mixer.init()\n",
        "\n",
        "    mp3_fp = BytesIO()\n",
        "    tts = gTTS(text=text, lang=lang)\n",
        "    tts.write_to_fp(mp3_fp)\n",
        "\n",
        "    mp3_fp.seek(0)\n",
        "    pygame.mixer.music.load(mp3_fp, \"mp3\")\n",
        "    pygame.mixer.music.play()\n",
        "\n",
        "    # 끝날 때까지 대기\n",
        "    while pygame.mixer.music.get_busy():\n",
        "        pygame.time.Clock().tick(10)\n",
        "\n",
        "    mp3_fp.close()"
      ]
    },
    {
      "cell_type": "code",
      "execution_count": null,
      "metadata": {
        "colab": {
          "base_uri": "https://localhost:8080/"
        },
        "id": "7hnEOn3mCLvG",
        "outputId": "dc4467c7-478e-4c8d-cc1c-59a274d025e7"
      },
      "outputs": [
        {
          "name": "stdout",
          "output_type": "stream",
          "text": [
            "텍스트를 입력: 김치찌개 레시피 알려줘\n",
            "AI: 재료로는 돼지고기 200그램, 김치 반포기, 두부 한 모, 대파 한 대, 마늘 다진 것 한 큰술, 고춧가루 한 큰술, 물 500밀리리터, 소금과 후추가 필요합니다.\n",
            "텍스트를 입력: 마늘 없는데 어떻게\n",
            "AI: 마늘이 없다면 생강을 조금 사용해도 괜찮습니다. 생강은 향이 다르지만 김치찌개에 깊은 맛을 더해줄 수 있습니다. 생강을 사용할 경우 양은 마늘보다 적게 사용하세요.\n",
            "텍스트를 입력: 생강도 없는데\n",
            "AI: 생강도 없다면 마늘 가루를 사용해도 좋습니다. 마늘 가루가 없다면 생략해도 괜찮습니다. 김치찌개는 김치와 돼지고기의 맛이 주가 되기 때문에 마늘이 없더라도 맛있게 만들 수 있습니다.\n",
            "텍스트를 입력: 그럼 없이 만들래\n",
            "AI: 좋아요 그럼 마늘 없이 진행해볼게요. 우선 돼지고기를 한 입 크기로 썰어줍니다.\n",
            "텍스트를 입력: 썰었어\n",
            "AI: 잘했어요. 이제 썬 돼지고기를 냄비에 넣고 중불에서 볶아줍니다. 고기가 겉면이 익을 때까지 볶아주세요.\n",
            "텍스트를 입력: 몇 분 볶아야해?\n",
            "AI: 보통 5분 정도 볶이면 좋습니다. 고기가 겉면이 익고 색깔이 변할 때까지 볶아주세요.\n",
            "텍스트를 입력: 다 익은거 같아\n",
            "AI: 잘했어요. 이제 볶은 돼지고기에 김치를 넣고 함께 볶아줍니다. 김치는 잘게 썰어주면 더 좋습니다. 약 3분 정도 볶아주세요.\n",
            "텍스트를 입력: 3분 지난거 같은데 이제 어떻게 해야대?\n",
            "AI: 김치와 돼지고기가 잘 볶아졌다면 이제 물 500밀리리터를 부어주세요. 끓기 시작할 때까지 중불로 조리합니다.\n",
            "텍스트를 입력: 좀 끓는거 같아\n",
            "AI: 잘하고 있어요. 끓기 시작하면 고춧가루 한 큰술을 넣고 잘 저어줍니다. 그런 다음 중간 불로 줄여서 10분 정도 끓여주세요.\n",
            "텍스트를 입력: 10분 지났어\n",
            "AI: 좋아요. 이제 두부를 한 입 크기로 잘라서 찌개에 넣어줍니다. 그리고 대파도 송송 썰어서 함께 넣어주세요.\n",
            "텍스트를 입력: 다 썰어 넣었어\n",
            "AI: 잘했어요. 이제 소금과 후추로 간을 맞춰주세요. 취향에 따라 간을 조절하면 됩니다. 마지막으로 5분 정도 더 끓여주세요.\n",
            "텍스트를 입력: 음 맛있네\n",
            "AI: 맛있다고 해주니 기쁘네요. 김치찌개가 잘 완성된 것 같아요. 맛있게 드세요! 다른 질문이나 도움이 필요하면 언제든지 말해 주세요.\n",
            "텍스트를 입력: 종료\n"
          ]
        }
      ],
      "source": [
        "content = \"\"\"\n",
        "    당신은 사용자의 요리 도우미 AI입니다.\n",
        "    사용자가 요청하는 요리의 레시피(재료, 조리법, 예상 소요 시간 포함)를 제공하고,\n",
        "    요리 과정 중에 생기는 질문에 친절하게 답변하며,\n",
        "    특정 재료를 대체할 수 있는 방법을 알려주는 역할을 수행합니다.\n",
        "    답변은 - , : 등 특수문자를 사용하지 말고 사람이 말하듯이 답변 하세요.\n",
        "    그리고 모두 한국어로 대답하세요. 예시) g → 그램\n",
        "    재료 준비과정, 조리과정 전부 단계별로 한개씩만 답변하세요.\n",
        "    재료 소개를 했으면 답변 종료입니다.\n",
        "    재료 준비나 조리법도 한 단계가 끝났으면 동일하게 답변 종료입니다.\n",
        "    준비과정이나 조리 과정을 한 번에 답변하지 마세요. 무조건 한 단계씩만 답변합니다.\n",
        "\n",
        "    예시1 : 재료로는 돼지고기 200그람, 김치 반포기, 두부 한 모, 물 등이 필요합니다.\n",
        "    예시2 : 우선 김치를 한 입 크기로 잘라줍니다.\n",
        "\"\"\"\n",
        "\n",
        "messages = [{\"role\": \"system\", \"content\": content}]\n",
        "\n",
        "while True:\n",
        "    # with sr.Microphone() as source:\n",
        "        # print('말씀하세요.')\n",
        "        # audio = recognizer.listen(source)\n",
        "        # txt = recognizer.recognize_google(audio, language='ko-KR')\n",
        "        # print(txt)\n",
        "\n",
        "        # 테스트용 사용자로부터 직접 입력 받음\n",
        "        txt = input(\"텍스트를 입력: \")\n",
        "\n",
        "        if txt == '종료':\n",
        "            break\n",
        "\n",
        "        messages.append({\"role\": \"user\", \"content\": txt})\n",
        "        response = client.chat.completions.create(\n",
        "            model=\"gpt-4o-mini\",\n",
        "            messages=messages,\n",
        "            temperature=0.5,\n",
        "            max_tokens=4096,\n",
        "            top_p=1\n",
        "        )\n",
        "        assistant_response_text = response.choices[0].message.content\n",
        "        messages.append({\"role\": \"assistant\", \"content\": assistant_response_text})\n",
        "\n",
        "        google_tts = gTTS(\n",
        "            text=assistant_response_text,\n",
        "            lang='ko'\n",
        "        )\n",
        "        speak(google_tts)\n",
        "        \n",
        "        print(\"AI:\", assistant_response_text) # AI 응답도 구분하여 출력하도록 수정"
      ]
    }
  ],
  "metadata": {
    "colab": {
      "provenance": []
    },
    "kernelspec": {
      "display_name": "Python 3.12.10 64-bit (microsoft store)",
      "language": "python",
      "name": "python3"
    },
    "language_info": {
      "name": "python",
      "version": "3.12.10"
    },
    "vscode": {
      "interpreter": {
        "hash": "0fafd3744448ea7b7a7f771c152258982b6db271f1b37b6fc49a7eabbcc1dc05"
      }
    }
  },
  "nbformat": 4,
  "nbformat_minor": 0
}
