{
  "cells": [
    {
      "cell_type": "code",
      "execution_count": null,
      "metadata": {
        "id": "sHNZLFyJtZ9t"
      },
      "outputs": [],
      "source": [
        "# %pip install SpeechRecognition\n",
        "# %pip install gtts\n",
        "# %pip install PyAudio\n",
        "# %pip install pygame"
      ]
    },
    {
      "cell_type": "code",
      "execution_count": null,
      "metadata": {
        "id": "QqWEH1y9lVoO"
      },
      "outputs": [
        {
          "name": "stdout",
          "output_type": "stream",
          "text": [
            "pygame 2.6.1 (SDL 2.28.4, Python 3.12.11)\n",
            "Hello from the pygame community. https://www.pygame.org/contribute.html\n"
          ]
        }
      ],
      "source": [
        "from openai import OpenAI\n",
        "from gtts import gTTS\n",
        "from io import BytesIO\n",
        "import pygame\n",
        "import speech_recognition as sr\n",
        "\n",
        "# from google.colab import userdata\n",
        "# GPT_API_KEY = userdata.get('GPT_API_KEY')\n",
        "# client = OpenAI(api_key=GPT_API_KEY)\n",
        "\n",
        "from dotenv import load_dotenv\n",
        "load_dotenv()\n",
        "client = OpenAI()\n",
        "\n",
        "mp3_fp = BytesIO()\n",
        "recognizer = sr.Recognizer()"
      ]
    },
    {
      "cell_type": "code",
      "execution_count": 26,
      "metadata": {},
      "outputs": [],
      "source": [
        "# tts 함수. \n",
        "# engine : \"gtts\" 또는 \"gpt\"\n",
        "def speak(text, engine=\"gtts\"):\n",
        "    # 음성 파일 메모리에 저장\n",
        "    mp3_fp = BytesIO()\n",
        "\n",
        "    # gTTS\n",
        "    if engine == \"gtts\":\n",
        "        tts = gTTS(text=text, lang=\"ko\")\n",
        "        tts.write_to_fp(mp3_fp)\n",
        "\n",
        "    # gpt\n",
        "    elif engine == \"gpt\":\n",
        "        response = client.audio.speech.create(\n",
        "            model=\"gpt-4o-mini-tts\",\n",
        "            voice=\"alloy\",\n",
        "            input=text\n",
        "        )\n",
        "        mp3_fp.write(response.read())\n",
        "\n",
        "    # 파일 포인터 처음으로 이동\n",
        "    mp3_fp.seek(0)\n",
        "\n",
        "    # pygame 재생\n",
        "    if not pygame.mixer.get_init():\n",
        "        pygame.mixer.init()\n",
        "    pygame.mixer.music.load(mp3_fp, \"mp3\")\n",
        "    pygame.mixer.music.play()\n",
        "\n",
        "    while pygame.mixer.music.get_busy():\n",
        "        pygame.time.Clock().tick(10)\n",
        "\n",
        "    mp3_fp.close()"
      ]
    },
    {
      "cell_type": "code",
      "execution_count": null,
      "metadata": {
        "colab": {
          "base_uri": "https://localhost:8080/"
        },
        "id": "7hnEOn3mCLvG",
        "outputId": "dc4467c7-478e-4c8d-cc1c-59a274d025e7"
      },
      "outputs": [
        {
          "name": "stdout",
          "output_type": "stream",
          "text": [
            "텍스트를 입력: 비빔밥\n",
            "AI: 비빔밥 재료는 밥 1공기, 시금치 100그램, 당근 1개, 표고버섯 2개, 오이 1개, 계란 1개, 고추장, 참기름, 깨소금 등이 필요합니다.\n",
            "텍스트를 입력: 표고버섯은 없어\n",
            "AI: 표고버섯 대신 다른 버섯이나 애호박으로 대체할 수 있습니다. 어떤 재료로 대체할지 정하셨나요?\n",
            "텍스트를 입력: 그냥 뺼래\n",
            "AI: 그럼 표고버섯을 빼고 비빔밥을 준비하겠습니다. 다음 단계로 넘어가겠습니다. 우선 시금치를 깨끗이 씻어줍니다.\n",
            "텍스트를 입력: 씻었어\n",
            "AI: 그럼 시금치를 끓는 물에 살짝 데쳐서 찬물에 헹궈줍니다.\n",
            "텍스트를 입력: 헹궜어\n",
            "AI: 이제 데친 시금치를 한입 크기로 잘라줍니다.\n",
            "텍스트를 입력: 다음\n",
            "AI: 다음으로 당근을 껍질을 벗기고 가늘게 채 썰어줍니다.\n",
            "텍스트를 입력: 다음\n",
            "AI: 이제 오이도 씻어서 얇게 채 썰어줍니다.\n",
            "텍스트를 입력: 다음\n",
            "AI: 이제 계란을 풀어서 프라이팬에 기름을 두르고 부쳐서 계란 지단을 만들어줍니다.\n",
            "텍스트를 입력: 다음\n",
            "AI: 이제 밥을 그릇에 담고 준비한 시금치, 당근, 오이를 예쁘게 올려줍니다.\n",
            "텍스트를 입력: 다음\n",
            "AI: 마지막으로 계란 지단을 위에 올리고 고추장, 참기름, 깨소금을 넣어줍니다.\n",
            "텍스트를 입력: 다음\n",
            "AI: 이제 모든 재료를 잘 비벼서 섞어줍니다. 조리가 끝났으니 맛있게 드세요.\n"
          ]
        }
      ],
      "source": [
        "content = \"\"\"\n",
        "당신은 사용자의 요리 도우미 AI입니다.\n",
        "사용자가 요청하는 요리의 레시피(재료, 조리법, 예상 소요 시간 포함)를 제공하고,\n",
        "요리 과정 중에 생기는 질문에 친절하게 답변하며, 특정 재료를 대체할 수 있는 방법을 알려주는 역할을 수행합니다.\n",
        "질문을 이해하지 못 했으면 다시 물어보세요.\n",
        "답변은 - , : 등 특수문자를 사용하지 말고 사람과 대화하듯이 답변 하세요.\n",
        "그리고 모두 한국어로 대답하세요. 예시) g → 그램\n",
        "만약 메뉴의 종류가 많은 경우 다시 물어보세요. 예시) 파스타 → 토마토, 알리올리오 등\n",
        "재료 준비과정, 조리과정 전부 단계별로 한개씩만 답변하세요.\n",
        "재료 소개를 했으면 답변 종료입니다.\n",
        "재료 준비나 조리법도 한 단계가 끝났으면 동일하게 답변 종료입니다.\n",
        "손질법은 재료 당 한번만 합니다. 예시) 씻고 데친뒤 썰기\n",
        "다만, 손질 방법이 같은 재료는 한번에 답변하세요.\n",
        "준비과정이나 조리 과정을 한 번에 답변하지 마세요. 무조건 한 단계씩만 답변합니다.\n",
        "조리가 전부 끝나면 '조리가 끝났으니 맛있게 드세요' 라고 출력하세요.\n",
        "\n",
        "예시1 : 김치찌개 재료는 돼지고기 200그람, 김치 반포기, 두부 한 모, 물 등이 필요합니다.\n",
        "예시2 : 우선 김치를 한 입 크기로 잘라줍니다.\n",
        "\"\"\"\n",
        "\n",
        "messages = [{\"role\": \"system\", \"content\": content}]\n",
        "\n",
        "while True:\n",
        "    with sr.Microphone() as source:\n",
        "        print('말씀하세요 : ', end=\"\")\n",
        "        audio = recognizer.listen(source)\n",
        "        txt = recognizer.recognize_google(audio, language='ko-KR')\n",
        "        print(txt)\n",
        "\n",
        "        # 테스트용 사용자로부터 직접 입력 받음\n",
        "        # txt = input(\"텍스트를 입력: \")\n",
        "        # print('텍스트를 입력:', txt)\n",
        "\n",
        "        if txt == '종료':\n",
        "            break\n",
        "\n",
        "        messages.append({\"role\": \"user\", \"content\": txt})\n",
        "        response = client.chat.completions.create(\n",
        "            model=\"gpt-4o-mini\",\n",
        "            messages=messages,\n",
        "            temperature=0.5,\n",
        "            max_tokens=4096,\n",
        "            top_p=1\n",
        "        )\n",
        "        assistant_response_text = response.choices[0].message.content\n",
        "        messages.append({\"role\": \"assistant\", \"content\": assistant_response_text})\n",
        "\n",
        "        print(\"AI:\", assistant_response_text)\n",
        "        speak(assistant_response_text, engine='gpt')\n",
        "        # speak(assistant_response_text)\n",
        "\n",
        "        if '조리가 끝났으니 맛있게 드세요' in assistant_response_text:\n",
        "            break"
      ]
    }
  ],
  "metadata": {
    "colab": {
      "provenance": []
    },
    "kernelspec": {
      "display_name": "llm_env",
      "language": "python",
      "name": "python3"
    },
    "language_info": {
      "codemirror_mode": {
        "name": "ipython",
        "version": 3
      },
      "file_extension": ".py",
      "mimetype": "text/x-python",
      "name": "python",
      "nbconvert_exporter": "python",
      "pygments_lexer": "ipython3",
      "version": "3.12.11"
    }
  },
  "nbformat": 4,
  "nbformat_minor": 0
}
