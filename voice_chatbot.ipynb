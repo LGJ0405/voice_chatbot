{
  "cells": [
    {
      "cell_type": "code",
      "execution_count": null,
      "metadata": {
        "id": "sHNZLFyJtZ9t"
      },
      "outputs": [],
      "source": [
        "# %pip install SpeechRecognition\n",
        "# %pip install gtts\n",
        "# %pip install PyAudio\n",
        "# %pip install pygame\n",
        "# %pip install pyttsx3"
      ]
    },
    {
      "cell_type": "code",
      "execution_count": null,
      "metadata": {
        "id": "QqWEH1y9lVoO"
      },
      "outputs": [
        {
          "name": "stdout",
          "output_type": "stream",
          "text": [
            "pygame 2.6.1 (SDL 2.28.4, Python 3.12.11)\n",
            "Hello from the pygame community. https://www.pygame.org/contribute.html\n"
          ]
        }
      ],
      "source": [
        "from openai import OpenAI\n",
        "from gtts import gTTS\n",
        "from io import BytesIO\n",
        "import pygame, os\n",
        "import speech_recognition as sr\n",
        "\n",
        "# from google.colab import userdata\n",
        "# GPT_API_KEY = userdata.get('GPT_API_KEY')\n",
        "# client = OpenAI(api_key=GPT_API_KEY)\n",
        "\n",
        "from dotenv import load_dotenv\n",
        "load_dotenv()\n",
        "client = OpenAI()\n",
        "\n",
        "mp3_fp = BytesIO()\n",
        "recognizer = sr.Recognizer()"
      ]
    },
    {
      "cell_type": "code",
      "execution_count": 3,
      "metadata": {},
      "outputs": [],
      "source": [
        "# 음성 출력\n",
        "def speak(text):\n",
        "    if not pygame.mixer.get_init():\n",
        "        pygame.mixer.init()\n",
        "\n",
        "    mp3_fp = BytesIO()\n",
        "    tts = gTTS(text, lang=\"ko\")\n",
        "    tts.write_to_fp(mp3_fp)\n",
        "\n",
        "    mp3_fp.seek(0)\n",
        "    pygame.mixer.music.load(mp3_fp, \"mp3\")\n",
        "    pygame.mixer.music.play()\n",
        "\n",
        "    # 끝날 때까지 대기\n",
        "    while pygame.mixer.music.get_busy():\n",
        "        pygame.time.Clock().tick(10)\n",
        "\n",
        "    mp3_fp.close()"
      ]
    },
    {
      "cell_type": "code",
      "execution_count": 24,
      "metadata": {},
      "outputs": [],
      "source": [
        "def speak_with_openai_tts(text, voice=\"alloy\"):\n",
        "    # OpenAI TTS 호출\n",
        "    response = client.audio.speech.create(\n",
        "        model=\"gpt-4o-mini-tts\",\n",
        "        voice=voice,  # 선택: alloy, verse, sage 등\n",
        "        input=text\n",
        "    )\n",
        "\n",
        "    # 메모리에 음성 저장\n",
        "    mp3_fp = BytesIO(response.read())\n",
        "    mp3_fp.seek(0)\n",
        "\n",
        "    # pygame으로 재생\n",
        "    if not pygame.mixer.get_init():\n",
        "        pygame.mixer.init()\n",
        "    pygame.mixer.music.load(mp3_fp, \"mp3\")\n",
        "    pygame.mixer.music.play()\n",
        "\n",
        "    while pygame.mixer.music.get_busy():\n",
        "        pygame.time.Clock().tick(10)\n",
        "\n",
        "    mp3_fp.close()"
      ]
    },
    {
      "cell_type": "code",
      "execution_count": null,
      "metadata": {
        "colab": {
          "base_uri": "https://localhost:8080/"
        },
        "id": "7hnEOn3mCLvG",
        "outputId": "dc4467c7-478e-4c8d-cc1c-59a274d025e7"
      },
      "outputs": [
        {
          "name": "stdout",
          "output_type": "stream",
          "text": [
            "말씀하세요.\n",
            "김치찌개 레시피 알려 줘\n",
            "AI: 김치찌개 재료는 돼지고기 200그람, 김치 반포기, 두부 한 모, 물 500밀리리터, 대파 1대, 마늘 3쪽, 고춧가루 2큰술, 소금 약간, 후추 약간 등이 필요합니다.\n",
            "말씀하세요.\n",
            "만약 대파가 없으면\n",
            "AI: 대파가 없다면 양파를 대신 사용할 수 있습니다. 양파를 적당한 크기로 썰어서 사용하면 됩니다.\n",
            "말씀하세요.\n",
            "그럼 재료는 다 있는 거 같아\n",
            "AI: 우선 김치를 한 입 크기로 잘라줍니다.\n",
            "말씀하세요.\n",
            "김치 다 썰었어\n",
            "AI: 다음으로 돼지고기를 한 입 크기로 썰어줍니다.\n",
            "말씀하세요.\n",
            "종료\n"
          ]
        }
      ],
      "source": [
        "content = \"\"\"\n",
        "    당신은 사용자의 요리 도우미 AI입니다.\n",
        "    사용자가 요청하는 요리의 레시피(재료, 조리법, 예상 소요 시간 포함)를 제공하고,\n",
        "    요리 과정 중에 생기는 질문에 친절하게 답변하며,\n",
        "    특정 재료를 대체할 수 있는 방법을 알려주는 역할을 수행합니다.\n",
        "    답변은 - , : 등 특수문자를 사용하지 말고 사람과 대화하듯이 답변 하세요.\n",
        "    그리고 모두 한국어로 대답하세요. 예시) g → 그램\n",
        "    재료 준비과정, 조리과정 전부 단계별로 한개씩만 답변하세요.\n",
        "    재료 소개를 했으면 답변 종료입니다.\n",
        "    재료 준비나 조리법도 한 단계가 끝났으면 동일하게 답변 종료입니다.\n",
        "    준비과정이나 조리 과정을 한 번에 답변하지 마세요. 무조건 한 단계씩만 답변합니다.\n",
        "    조리가 전부 끝나면 '조리가 끝났으니 맛있게 드세요' 라고 출력해\n",
        "    \n",
        "    예시1 : 김치찌개 재료는 돼지고기 200그람, 김치 반포기, 두부 한 모, 물 등이 필요합니다.\n",
        "    예시2 : 우선 김치를 한 입 크기로 잘라줍니다.\n",
        "\"\"\"\n",
        "\n",
        "messages = [{\"role\": \"system\", \"content\": content}]\n",
        "\n",
        "while True:\n",
        "    with sr.Microphone() as source:\n",
        "        print('말씀하세요.')\n",
        "        audio = recognizer.listen(source)\n",
        "        txt = recognizer.recognize_google(audio, language='ko-KR')\n",
        "        print(txt)\n",
        "\n",
        "        # 테스트용 사용자로부터 직접 입력 받음\n",
        "        # txt = input(\"텍스트를 입력: \")\n",
        "        # print('텍스트를 입력:', txt)\n",
        "\n",
        "        if txt == '종료':\n",
        "            break\n",
        "\n",
        "        messages.append({\"role\": \"user\", \"content\": txt})\n",
        "        response = client.chat.completions.create(\n",
        "            model=\"gpt-4o-mini\",\n",
        "            messages=messages,\n",
        "            temperature=0.5,\n",
        "            max_tokens=4096,\n",
        "            top_p=1\n",
        "        )\n",
        "        assistant_response_text = response.choices[0].message.content\n",
        "        messages.append({\"role\": \"assistant\", \"content\": assistant_response_text})\n",
        "\n",
        "        print(\"AI:\", assistant_response_text) # AI 응답도 구분하여 출력하도록 수정\n",
        "        speak_with_openai_tts(assistant_response_text)\n",
        "        # speak(assistant_response_text)\n",
        "\n",
        "        if '조리가 끝났으니 맛있게 드세요' in assistant_response_text:\n",
        "            break"
      ]
    }
  ],
  "metadata": {
    "colab": {
      "provenance": []
    },
    "kernelspec": {
      "display_name": "llm_env",
      "language": "python",
      "name": "python3"
    },
    "language_info": {
      "codemirror_mode": {
        "name": "ipython",
        "version": 3
      },
      "file_extension": ".py",
      "mimetype": "text/x-python",
      "name": "python",
      "nbconvert_exporter": "python",
      "pygments_lexer": "ipython3",
      "version": "3.12.11"
    }
  },
  "nbformat": 4,
  "nbformat_minor": 0
}
